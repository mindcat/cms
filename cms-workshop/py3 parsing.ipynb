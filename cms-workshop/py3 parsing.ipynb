{
 "cells": [
  {
   "cell_type": "markdown",
   "id": "6e8650b7",
   "metadata": {},
   "source": [
    "## File parsing in Python"
   ]
  },
  {
   "cell_type": "code",
   "execution_count": 4,
   "id": "cf3efa80",
   "metadata": {},
   "outputs": [],
   "source": [
    "eth_file = 'data/outfiles/ethanol.out'"
   ]
  },
  {
   "cell_type": "code",
   "execution_count": 7,
   "id": "89953476",
   "metadata": {},
   "outputs": [
    {
     "ename": "FileNotFoundError",
     "evalue": "[Errno 2] No such file or directory: 'data/outfiles/ethanol.out'",
     "output_type": "error",
     "traceback": [
      "\u001b[0;31m---------------------------------------------------------------------------\u001b[0m",
      "\u001b[0;31mFileNotFoundError\u001b[0m                         Traceback (most recent call last)",
      "Input \u001b[0;32mIn [7]\u001b[0m, in \u001b[0;36m<module>\u001b[0;34m\u001b[0m\n\u001b[1;32m      1\u001b[0m f_energy: \u001b[38;5;28mfloat\u001b[39m\n\u001b[1;32m      2\u001b[0m f_name: \u001b[38;5;28mstr\u001b[39m\n\u001b[0;32m----> 3\u001b[0m \u001b[38;5;28;01mwith\u001b[39;00m \u001b[38;5;28;43mopen\u001b[39;49m\u001b[43m(\u001b[49m\u001b[43meth_file\u001b[49m\u001b[43m,\u001b[49m\u001b[43m \u001b[49m\u001b[38;5;124;43m'\u001b[39;49m\u001b[38;5;124;43mr\u001b[39;49m\u001b[38;5;124;43m'\u001b[39;49m\u001b[43m)\u001b[49m \u001b[38;5;28;01mas\u001b[39;00m f:\n\u001b[1;32m      4\u001b[0m     \u001b[38;5;28;01mfor\u001b[39;00m l \u001b[38;5;129;01min\u001b[39;00m f:\n\u001b[1;32m      5\u001b[0m         \u001b[38;5;28;01mif\u001b[39;00m \u001b[38;5;124m\"\u001b[39m\u001b[38;5;124mFinal Energy\u001b[39m\u001b[38;5;124m\"\u001b[39m \u001b[38;5;129;01min\u001b[39;00m l:\n",
      "\u001b[0;31mFileNotFoundError\u001b[0m: [Errno 2] No such file or directory: 'data/outfiles/ethanol.out'"
     ]
    }
   ],
   "source": [
    "f_energy: float\n",
    "f_name: str\n",
    "with open(eth_file, 'r') as f:\n",
    "    for l in f:\n",
    "        if \"Final Energy\" in l:\n",
    "            l = l.split()\n",
    "            f_energy = l[3]\n",
    "print(f_energy)"
   ]
  },
  {
   "cell_type": "code",
   "execution_count": null,
   "id": "4d7d8ece",
   "metadata": {},
   "outputs": [],
   "source": []
  }
 ],
 "metadata": {
  "kernelspec": {
   "display_name": "Python 3 (ipykernel)",
   "language": "python",
   "name": "python3"
  },
  "language_info": {
   "codemirror_mode": {
    "name": "ipython",
    "version": 3
   },
   "file_extension": ".py",
   "mimetype": "text/x-python",
   "name": "python",
   "nbconvert_exporter": "python",
   "pygments_lexer": "ipython3",
   "version": "3.9.7"
  }
 },
 "nbformat": 4,
 "nbformat_minor": 5
}
