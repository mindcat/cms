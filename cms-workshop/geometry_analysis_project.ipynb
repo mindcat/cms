{
 "cells": [
  {
   "cell_type": "markdown",
   "id": "3a1dd145",
   "metadata": {},
   "source": [
    "# Geometry analysis project\n",
    "\n",
    "In the lesson materials, there is a file in the data folder called “water.xyz”. This is a very simple, standard file format that is often used to distribute molecular coordinates. The first line of the file is the number of atoms in the molecule, the second line is a title line (or may be blank), and the coordinates begin on the third line. The format of the coordinates is\n",
    "\n",
    "`Atom_Label  XCoor   YCoor   ZCoor`\n",
    "\n",
    "and the default units (which are used in this example) are angstroms.\n",
    "\n",
    "Write a code to read in the information from the xyz file and determine the bond lengths between all the atoms. There is a numpy function to take the square root is `numpy.sqrt()`. To raise a number to a power, use `**`, as in `3**2 = 9`. Your code output should look something like this.\n",
    "\n",
    "```\n",
    "O to O : 0.0\n",
    "O to H1 : 0.969\n",
    "O to H2 : 0.969\n",
    "H1 to O : 0.969\n",
    "H1 to H1 : 0.0\n",
    "H1 to H2 : 1.527\n",
    "H2 to O : 0.969\n",
    "H2 to H1 : 1.527\n",
    "H2 to H2 : 0.0\n",
    "```"
   ]
  },
  {
   "cell_type": "code",
   "execution_count": 1,
   "id": "a420a3ab",
   "metadata": {},
   "outputs": [],
   "source": [
    "import numpy as np\n",
    "import pandas as pd"
   ]
  },
  {
   "cell_type": "code",
   "execution_count": 27,
   "id": "d772fd2c",
   "metadata": {},
   "outputs": [],
   "source": [
    "# src = 'data/buckminsterfullerene.xyz'\n",
    "src = 'data/benzene.xyz'\n",
    "# src = 'data/water.xyz'"
   ]
  },
  {
   "cell_type": "code",
   "execution_count": 28,
   "id": "85122a5b",
   "metadata": {},
   "outputs": [],
   "source": [
    "def dist(a1, a2):\n",
    "    squared_dist = np.sum((a1-a2)**2, axis=0)\n",
    "    dist = np.sqrt(squared_dist)\n",
    "    return dist\n",
    "#     return np.hypot(a1, a2)"
   ]
  },
  {
   "cell_type": "code",
   "execution_count": 29,
   "id": "0f69ccca",
   "metadata": {},
   "outputs": [
    {
     "name": "stdout",
     "output_type": "stream",
     "text": [
      "[[ 0.       1.40272  0.     ]\n",
      " [ 0.       2.49029  0.     ]\n",
      " [-1.21479  0.70136  0.     ]\n",
      " [-2.15666  1.24515  0.     ]\n",
      " [-1.21479 -0.70136  0.     ]\n",
      " [-2.15666 -1.24515  0.     ]\n",
      " [ 0.      -1.40272  0.     ]\n",
      " [ 0.      -2.49029  0.     ]\n",
      " [ 1.21479 -0.70136  0.     ]\n",
      " [ 2.15666 -1.24515  0.     ]\n",
      " [ 1.21479  0.70136  0.     ]\n",
      " [ 2.15666  1.24515  0.     ]]\n"
     ]
    }
   ],
   "source": [
    "# df = pd.read_csv('data/water.xyz', skiprows=1)\n",
    "# head = df.iloc[:,0]\n",
    "# print(df)\n",
    "# print(df[1].values)\n",
    "d = np.genfromtxt(src, skip_header=2)\n",
    "# print(d)\n",
    "d = d[:,1:4]\n",
    "print(d)"
   ]
  },
  {
   "cell_type": "code",
   "execution_count": 30,
   "id": "adb2e8d6",
   "metadata": {},
   "outputs": [],
   "source": [
    "def parse(file, limit, check_dup):\n",
    "    tokens = []\n",
    "    with open(file) as f:\n",
    "        for line in f:\n",
    "            tokens.extend(line.split())\n",
    "#         print(tokens)\n",
    "    num = int(tokens[0])\n",
    "    print('Number atoms: ', num)\n",
    "    final = tokens[4:]\n",
    "    dup = []\n",
    "    for i in range(num):\n",
    "        for j in range(num):\n",
    "#             print(i, '   -   ', (4*i)\n",
    "            dst = dist(d[i], d[j])\n",
    "            if (dst < limit) and (((i, j) not in dup) if check_dup else True) and (i != j):\n",
    "                print(final[4*i], 'to', final[4*j], ':', dst)\n",
    "                dup.append((i, j))\n",
    "                dup.append((j, i))\n",
    "#             print(dist(d[i], d[j]))\n",
    "    return final"
   ]
  },
  {
   "cell_type": "code",
   "execution_count": 31,
   "id": "0029b28a",
   "metadata": {
    "scrolled": true
   },
   "outputs": [
    {
     "name": "stdout",
     "output_type": "stream",
     "text": [
      "Number atoms:  12\n",
      "C to H : 1.08757\n",
      "C to C : 1.402719000263417\n",
      "C to C : 1.402719000263417\n",
      "C to H : 1.087578347062868\n",
      "C to C : 1.40272\n",
      "C to H : 1.087578347062868\n",
      "C to C : 1.402719000263417\n",
      "C to H : 1.08757\n",
      "C to C : 1.402719000263417\n",
      "C to H : 1.087578347062868\n",
      "C to C : 1.40272\n",
      "C to H : 1.087578347062868\n",
      "\n"
     ]
    }
   ],
   "source": [
    "parse(src, 1.5, True)\n",
    "print() # so no ugly objects distract from the func printing"
   ]
  },
  {
   "cell_type": "code",
   "execution_count": null,
   "id": "71468763",
   "metadata": {},
   "outputs": [],
   "source": []
  },
  {
   "cell_type": "code",
   "execution_count": null,
   "id": "e24a39d7",
   "metadata": {},
   "outputs": [],
   "source": []
  }
 ],
 "metadata": {
  "kernelspec": {
   "display_name": "Python 3 (ipykernel)",
   "language": "python",
   "name": "python3"
  },
  "language_info": {
   "codemirror_mode": {
    "name": "ipython",
    "version": 3
   },
   "file_extension": ".py",
   "mimetype": "text/x-python",
   "name": "python",
   "nbconvert_exporter": "python",
   "pygments_lexer": "ipython3",
   "version": "3.9.7"
  }
 },
 "nbformat": 4,
 "nbformat_minor": 5
}
