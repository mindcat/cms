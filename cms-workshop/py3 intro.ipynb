{
 "cells": [
  {
   "cell_type": "markdown",
   "id": "17abef67",
   "metadata": {},
   "source": [
    "# Intro to Python\n",
    "### MolSSI-MAPOL Workshop"
   ]
  },
  {
   "cell_type": "code",
   "execution_count": 5,
   "id": "bb082b52",
   "metadata": {},
   "outputs": [
    {
     "data": {
      "text/plain": [
       "-3640.7000000000003"
      ]
     },
     "execution_count": 5,
     "metadata": {},
     "output_type": "execute_result"
    }
   ],
   "source": [
    "deltaH = -541.5\n",
    "deltaS = 10.4\n",
    "temp = 298\n",
    "\n",
    "deltaG = deltaH - temp*deltaS\n",
    "deltaG"
   ]
  },
  {
   "cell_type": "code",
   "execution_count": 8,
   "id": "dbc8007c",
   "metadata": {},
   "outputs": [
    {
     "name": "stdout",
     "output_type": "stream",
     "text": [
      "The value of free energy is -3640.70 in kj/mol\n"
     ]
    }
   ],
   "source": [
    "print(f\"The value of free energy is {deltaG:.2f} in kj/mol\")"
   ]
  },
  {
   "cell_type": "code",
   "execution_count": 9,
   "id": "9dcf5907",
   "metadata": {},
   "outputs": [],
   "source": [
    "# calc force from ball which is 100 grams, accelerating at 10 m/s"
   ]
  },
  {
   "cell_type": "code",
   "execution_count": 23,
   "id": "46c4524f",
   "metadata": {},
   "outputs": [],
   "source": [
    "def force(mass, accel): # mass in grams\n",
    "    mass = float(mass)\n",
    "    accel = float(accel)\n",
    "    mass = mass / 1000\n",
    "    return mass * accel"
   ]
  },
  {
   "cell_type": "code",
   "execution_count": 24,
   "id": "ee428dc6",
   "metadata": {},
   "outputs": [
    {
     "name": "stdout",
     "output_type": "stream",
     "text": [
      "1.0  Newtons\n"
     ]
    }
   ],
   "source": [
    "print(force(100, 10), \" Newtons\")"
   ]
  },
  {
   "cell_type": "code",
   "execution_count": 26,
   "id": "8024d3e7",
   "metadata": {},
   "outputs": [
    {
     "data": {
      "text/plain": [
       "4"
      ]
     },
     "execution_count": 26,
     "metadata": {},
     "output_type": "execute_result"
    }
   ],
   "source": [
    "kcal = [-13.4, -2.7, 5.4, 42.1]\n",
    "cal_len = len(kcal)\n",
    "cal_len"
   ]
  },
  {
   "cell_type": "code",
   "execution_count": 38,
   "id": "8e0ffb59",
   "metadata": {},
   "outputs": [],
   "source": [
    "# def sum_joules(cal_list):\n",
    "#     total = 0\n",
    "#     for i in cal_list:\n",
    "#         total = total + i * 4.184\n",
    "#     return total\n",
    "\n",
    "def sum_joules(cal_list):\n",
    "    return sum(kcal) * 4.184"
   ]
  },
  {
   "cell_type": "code",
   "execution_count": 39,
   "id": "1469fd52",
   "metadata": {},
   "outputs": [
    {
     "data": {
      "text/plain": [
       "131.3776"
      ]
     },
     "execution_count": 39,
     "metadata": {},
     "output_type": "execute_result"
    }
   ],
   "source": [
    "sum_joules(kcal)"
   ]
  },
  {
   "cell_type": "markdown",
   "id": "667c71f0",
   "metadata": {},
   "source": [
    "### python slices"
   ]
  },
  {
   "cell_type": "code",
   "execution_count": 28,
   "id": "31a6bb75",
   "metadata": {},
   "outputs": [
    {
     "data": {
      "text/plain": [
       "[-13.4, -2.7]"
      ]
     },
     "execution_count": 28,
     "metadata": {},
     "output_type": "execute_result"
    }
   ],
   "source": [
    "first_two = kcal[0:2]\n",
    "first_two"
   ]
  },
  {
   "cell_type": "code",
   "execution_count": 36,
   "id": "b726bca6",
   "metadata": {},
   "outputs": [
    {
     "name": "stdout",
     "output_type": "stream",
     "text": [
      "[-2.7, 5.4, 42.1] \n",
      "\n",
      "[-13.4, -2.7, 5.4]\n"
     ]
    }
   ],
   "source": [
    "print(kcal[1:], \"\\n\")\n",
    "print(kcal[:3])"
   ]
  },
  {
   "cell_type": "code",
   "execution_count": 40,
   "id": "1d1638d2",
   "metadata": {},
   "outputs": [],
   "source": [
    "def convert_kJ(cal_list):\n",
    "    kJ = []\n",
    "    for i in cal_list:\n",
    "        kJ.append(i * 4.184)\n",
    "    return kJ"
   ]
  },
  {
   "cell_type": "code",
   "execution_count": 41,
   "id": "d5b7b7e4",
   "metadata": {},
   "outputs": [
    {
     "name": "stdout",
     "output_type": "stream",
     "text": [
      "[-56.0656, -11.296800000000001, 22.593600000000002, 176.1464]\n"
     ]
    }
   ],
   "source": [
    "print(convert_kJ(kcal))"
   ]
  },
  {
   "cell_type": "code",
   "execution_count": 42,
   "id": "135a161a",
   "metadata": {},
   "outputs": [],
   "source": [
    "def sign_lists(list):\n",
    "    nl = []\n",
    "    pl = []\n",
    "    for i in list:\n",
    "        nl.append(i) if i < 0 else pl.append(i)\n",
    "    return nl, pl"
   ]
  },
  {
   "cell_type": "code",
   "execution_count": 43,
   "id": "0161f5c8",
   "metadata": {},
   "outputs": [
    {
     "name": "stdout",
     "output_type": "stream",
     "text": [
      "([-13.4, -2.7], [5.4, 42.1])\n"
     ]
    }
   ],
   "source": [
    "print(sign_lists(kcal))"
   ]
  },
  {
   "cell_type": "code",
   "execution_count": null,
   "id": "5e32f28d",
   "metadata": {},
   "outputs": [],
   "source": [
    "    "
   ]
  }
 ],
 "metadata": {
  "kernelspec": {
   "display_name": "Python 3 (ipykernel)",
   "language": "python",
   "name": "python3"
  },
  "language_info": {
   "codemirror_mode": {
    "name": "ipython",
    "version": 3
   },
   "file_extension": ".py",
   "mimetype": "text/x-python",
   "name": "python",
   "nbconvert_exporter": "python",
   "pygments_lexer": "ipython3",
   "version": "3.9.7"
  }
 },
 "nbformat": 4,
 "nbformat_minor": 5
}
