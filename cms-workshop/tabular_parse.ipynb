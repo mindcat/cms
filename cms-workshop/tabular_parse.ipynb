{
 "cells": [
  {
   "cell_type": "markdown",
   "id": "3d9d1409",
   "metadata": {},
   "source": [
    "### working with csv's"
   ]
  },
  {
   "cell_type": "code",
   "execution_count": 28,
   "id": "025d0c9d",
   "metadata": {},
   "outputs": [],
   "source": [
    "import numpy as np\n",
    "import pandas as pd\n",
    "import matplotlib as plt"
   ]
  },
  {
   "cell_type": "code",
   "execution_count": 29,
   "id": "50ff86dc",
   "metadata": {},
   "outputs": [],
   "source": [
    "flnm = 'data/distance_data_headers.csv'\n",
    "# data = numpy.genfromtxt(flnm, delimiter=',', skip_)\n",
    "d = pd.read_csv(flnm)\n",
    "# d.head()"
   ]
  },
  {
   "cell_type": "code",
   "execution_count": 30,
   "id": "42b18e46",
   "metadata": {},
   "outputs": [
    {
     "data": {
      "text/html": [
       "<div>\n",
       "<style scoped>\n",
       "    .dataframe tbody tr th:only-of-type {\n",
       "        vertical-align: middle;\n",
       "    }\n",
       "\n",
       "    .dataframe tbody tr th {\n",
       "        vertical-align: top;\n",
       "    }\n",
       "\n",
       "    .dataframe thead th {\n",
       "        text-align: right;\n",
       "    }\n",
       "</style>\n",
       "<table border=\"1\" class=\"dataframe\">\n",
       "  <thead>\n",
       "    <tr style=\"text-align: right;\">\n",
       "      <th></th>\n",
       "      <th>Frame</th>\n",
       "      <th>THR4_ATP</th>\n",
       "      <th>THR4_ASP</th>\n",
       "      <th>TYR6_ATP</th>\n",
       "      <th>TYR6_ASP</th>\n",
       "    </tr>\n",
       "  </thead>\n",
       "  <tbody>\n",
       "    <tr>\n",
       "      <th>count</th>\n",
       "      <td>10000.00000</td>\n",
       "      <td>10000.000000</td>\n",
       "      <td>10000.000000</td>\n",
       "      <td>10000.000000</td>\n",
       "      <td>10000.000000</td>\n",
       "    </tr>\n",
       "    <tr>\n",
       "      <th>mean</th>\n",
       "      <td>5000.50000</td>\n",
       "      <td>10.876951</td>\n",
       "      <td>7.342345</td>\n",
       "      <td>11.209791</td>\n",
       "      <td>10.993443</td>\n",
       "    </tr>\n",
       "    <tr>\n",
       "      <th>std</th>\n",
       "      <td>2886.89568</td>\n",
       "      <td>2.676669</td>\n",
       "      <td>0.995629</td>\n",
       "      <td>2.367468</td>\n",
       "      <td>1.058657</td>\n",
       "    </tr>\n",
       "    <tr>\n",
       "      <th>min</th>\n",
       "      <td>1.00000</td>\n",
       "      <td>5.741600</td>\n",
       "      <td>3.606100</td>\n",
       "      <td>5.707900</td>\n",
       "      <td>7.855700</td>\n",
       "    </tr>\n",
       "    <tr>\n",
       "      <th>25%</th>\n",
       "      <td>2500.75000</td>\n",
       "      <td>8.740850</td>\n",
       "      <td>6.739650</td>\n",
       "      <td>9.560125</td>\n",
       "      <td>10.299925</td>\n",
       "    </tr>\n",
       "    <tr>\n",
       "      <th>50%</th>\n",
       "      <td>5000.50000</td>\n",
       "      <td>10.775950</td>\n",
       "      <td>7.410700</td>\n",
       "      <td>10.894250</td>\n",
       "      <td>10.880550</td>\n",
       "    </tr>\n",
       "    <tr>\n",
       "      <th>75%</th>\n",
       "      <td>7500.25000</td>\n",
       "      <td>12.892300</td>\n",
       "      <td>7.976450</td>\n",
       "      <td>12.921500</td>\n",
       "      <td>11.574075</td>\n",
       "    </tr>\n",
       "    <tr>\n",
       "      <th>max</th>\n",
       "      <td>10000.00000</td>\n",
       "      <td>19.480000</td>\n",
       "      <td>10.816900</td>\n",
       "      <td>18.932300</td>\n",
       "      <td>15.006500</td>\n",
       "    </tr>\n",
       "  </tbody>\n",
       "</table>\n",
       "</div>"
      ],
      "text/plain": [
       "             Frame      THR4_ATP      THR4_ASP      TYR6_ATP      TYR6_ASP\n",
       "count  10000.00000  10000.000000  10000.000000  10000.000000  10000.000000\n",
       "mean    5000.50000     10.876951      7.342345     11.209791     10.993443\n",
       "std     2886.89568      2.676669      0.995629      2.367468      1.058657\n",
       "min        1.00000      5.741600      3.606100      5.707900      7.855700\n",
       "25%     2500.75000      8.740850      6.739650      9.560125     10.299925\n",
       "50%     5000.50000     10.775950      7.410700     10.894250     10.880550\n",
       "75%     7500.25000     12.892300      7.976450     12.921500     11.574075\n",
       "max    10000.00000     19.480000     10.816900     18.932300     15.006500"
      ]
     },
     "execution_count": 30,
     "metadata": {},
     "output_type": "execute_result"
    }
   ],
   "source": [
    "d.describe()"
   ]
  },
  {
   "cell_type": "code",
   "execution_count": 31,
   "id": "f7760cfe",
   "metadata": {},
   "outputs": [
    {
     "data": {
      "text/plain": [
       "Frame       5000.500000\n",
       "THR4_ATP      10.876951\n",
       "THR4_ASP       7.342345\n",
       "TYR6_ATP      11.209791\n",
       "TYR6_ASP      10.993443\n",
       "dtype: float64"
      ]
     },
     "execution_count": 31,
     "metadata": {},
     "output_type": "execute_result"
    }
   ],
   "source": [
    "avg = np.mean(data, axis=0)\n",
    "avg"
   ]
  },
  {
   "cell_type": "code",
   "execution_count": 32,
   "id": "4d53c622",
   "metadata": {},
   "outputs": [
    {
     "data": {
      "text/plain": [
       "Frame       5000.500000\n",
       "THR4_ATP      10.876951\n",
       "THR4_ASP       7.342345\n",
       "TYR6_ATP      11.209791\n",
       "TYR6_ASP      10.993443\n",
       "dtype: float64"
      ]
     },
     "execution_count": 32,
     "metadata": {},
     "output_type": "execute_result"
    }
   ],
   "source": [
    "data.mean()"
   ]
  },
  {
   "cell_type": "code",
   "execution_count": 33,
   "id": "0516d654",
   "metadata": {},
   "outputs": [
    {
     "ename": "AttributeError",
     "evalue": "module 'matplotlib' has no attribute 'figure'",
     "output_type": "error",
     "traceback": [
      "\u001b[0;31m---------------------------------------------------------------------------\u001b[0m",
      "\u001b[0;31mAttributeError\u001b[0m                            Traceback (most recent call last)",
      "Input \u001b[0;32mIn [33]\u001b[0m, in \u001b[0;36m<module>\u001b[0;34m\u001b[0m\n\u001b[0;32m----> 1\u001b[0m \u001b[43mplt\u001b[49m\u001b[38;5;241;43m.\u001b[39;49m\u001b[43mfigure\u001b[49m()\n\u001b[1;32m      2\u001b[0m plt\u001b[38;5;241m.\u001b[39mplot(data[\u001b[38;5;241m1\u001b[39m])\n\u001b[1;32m      3\u001b[0m plt\u001b[38;5;241m.\u001b[39mshow()\n",
      "File \u001b[0;32m/opt/conda/lib/python3.9/site-packages/matplotlib/_api/__init__.py:222\u001b[0m, in \u001b[0;36mcaching_module_getattr.<locals>.__getattr__\u001b[0;34m(name)\u001b[0m\n\u001b[1;32m    220\u001b[0m \u001b[38;5;28;01mif\u001b[39;00m name \u001b[38;5;129;01min\u001b[39;00m props:\n\u001b[1;32m    221\u001b[0m     \u001b[38;5;28;01mreturn\u001b[39;00m props[name]\u001b[38;5;241m.\u001b[39m\u001b[38;5;21m__get__\u001b[39m(instance)\n\u001b[0;32m--> 222\u001b[0m \u001b[38;5;28;01mraise\u001b[39;00m \u001b[38;5;167;01mAttributeError\u001b[39;00m(\n\u001b[1;32m    223\u001b[0m     \u001b[38;5;124mf\u001b[39m\u001b[38;5;124m\"\u001b[39m\u001b[38;5;124mmodule \u001b[39m\u001b[38;5;132;01m{\u001b[39;00m\u001b[38;5;28mcls\u001b[39m\u001b[38;5;241m.\u001b[39m\u001b[38;5;18m__module__\u001b[39m\u001b[38;5;132;01m!r}\u001b[39;00m\u001b[38;5;124m has no attribute \u001b[39m\u001b[38;5;132;01m{\u001b[39;00mname\u001b[38;5;132;01m!r}\u001b[39;00m\u001b[38;5;124m\"\u001b[39m)\n",
      "\u001b[0;31mAttributeError\u001b[0m: module 'matplotlib' has no attribute 'figure'"
     ]
    }
   ],
   "source": [
    "plt.figure()\n",
    "plt.plot(data[1])\n",
    "plt.show()"
   ]
  },
  {
   "cell_type": "code",
   "execution_count": null,
   "id": "72e1971c",
   "metadata": {},
   "outputs": [],
   "source": []
  }
 ],
 "metadata": {
  "kernelspec": {
   "display_name": "Python 3 (ipykernel)",
   "language": "python",
   "name": "python3"
  },
  "language_info": {
   "codemirror_mode": {
    "name": "ipython",
    "version": 3
   },
   "file_extension": ".py",
   "mimetype": "text/x-python",
   "name": "python",
   "nbconvert_exporter": "python",
   "pygments_lexer": "ipython3",
   "version": "3.9.7"
  }
 },
 "nbformat": 4,
 "nbformat_minor": 5
}
