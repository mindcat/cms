{
 "cells": [
  {
   "cell_type": "markdown",
   "id": "5ad86fac",
   "metadata": {},
   "source": [
    "## File parsing in Julia"
   ]
  },
  {
   "cell_type": "code",
   "execution_count": null,
   "id": "b9729648",
   "metadata": {},
   "outputs": [],
   "source": []
  }
 ],
 "metadata": {
  "kernelspec": {
   "display_name": "Julia 1.5.3",
   "language": "julia",
   "name": "julia-1.5"
  },
  "language_info": {
   "file_extension": ".jl",
   "mimetype": "application/julia",
   "name": "julia",
   "version": "1.5.3"
  }
 },
 "nbformat": 4,
 "nbformat_minor": 5
}
