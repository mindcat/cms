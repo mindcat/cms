{
 "cells": [
  {
   "cell_type": "markdown",
   "id": "0b7197bd",
   "metadata": {},
   "source": [
    "# Intro to Julia\n",
    "### MolSSI-MAPOL Workshop"
   ]
  },
  {
   "cell_type": "code",
   "execution_count": 2,
   "id": "4582c3d3",
   "metadata": {},
   "outputs": [
    {
     "data": {
      "text/plain": [
       "1.02132696448584"
      ]
     },
     "execution_count": 2,
     "metadata": {},
     "output_type": "execute_result"
    }
   ],
   "source": [
    "243324/238243"
   ]
  },
  {
   "cell_type": "code",
   "execution_count": 8,
   "id": "923ecd9c",
   "metadata": {},
   "outputs": [
    {
     "data": {
      "text/plain": [
       "-3640.7000000000003"
      ]
     },
     "execution_count": 8,
     "metadata": {},
     "output_type": "execute_result"
    }
   ],
   "source": [
    "ΔΗ = -541.5\n",
    "ΔS = 10.4\n",
    "° = 298\n",
    "\n",
    "ΔG = ΔΗ - ° * ΔS"
   ]
  },
  {
   "cell_type": "code",
   "execution_count": 10,
   "id": "94c050a5",
   "metadata": {},
   "outputs": [
    {
     "name": "stdout",
     "output_type": "stream",
     "text": [
      "ΔG = -3640.7000000000003 kJ/mole"
     ]
    }
   ],
   "source": [
    "print(\"ΔG = \", ΔG, \" kJ/mole\")"
   ]
  },
  {
   "cell_type": "code",
   "execution_count": 12,
   "id": "2c80bac4",
   "metadata": {},
   "outputs": [
    {
     "data": {
      "text/plain": [
       "force (generic function with 1 method)"
      ]
     },
     "execution_count": 12,
     "metadata": {},
     "output_type": "execute_result"
    }
   ],
   "source": [
    "function force(m, a) # mass in grams\n",
    "    m = m / 1000\n",
    "    return m * a\n",
    "end"
   ]
  },
  {
   "cell_type": "code",
   "execution_count": 14,
   "id": "56451526",
   "metadata": {},
   "outputs": [
    {
     "name": "stdout",
     "output_type": "stream",
     "text": [
      "1.0 Newtons"
     ]
    }
   ],
   "source": [
    "print(force(100.0, 10), \" Newtons\")"
   ]
  },
  {
   "cell_type": "markdown",
   "id": "b90461b6",
   "metadata": {},
   "source": [
    "### in Julia, lists are just flexible arrays"
   ]
  },
  {
   "cell_type": "code",
   "execution_count": 36,
   "id": "5f9424d3",
   "metadata": {},
   "outputs": [
    {
     "data": {
      "text/plain": [
       "4"
      ]
     },
     "execution_count": 36,
     "metadata": {},
     "output_type": "execute_result"
    }
   ],
   "source": [
    "kcal = [-13.4, -2.7, 5.4, 42.1]\n",
    "cal_len = length(kcal)\n",
    "cal_len"
   ]
  },
  {
   "cell_type": "markdown",
   "id": "cf371739",
   "metadata": {},
   "source": [
    "### Unlike most programming languages, indexing starts at 1"
   ]
  },
  {
   "cell_type": "code",
   "execution_count": 19,
   "id": "d2598d18",
   "metadata": {},
   "outputs": [
    {
     "name": "stdout",
     "output_type": "stream",
     "text": [
      "-13.4"
     ]
    }
   ],
   "source": [
    "print(kcal[1])"
   ]
  },
  {
   "cell_type": "code",
   "execution_count": 24,
   "id": "86298fd6",
   "metadata": {},
   "outputs": [
    {
     "data": {
      "text/plain": [
       "ΣJ (generic function with 1 method)"
      ]
     },
     "execution_count": 24,
     "metadata": {},
     "output_type": "execute_result"
    }
   ],
   "source": [
    "function ΣJ(cal_list)\n",
    "    total = 0\n",
    "    for i in cal_list\n",
    "        total = total + i * 4.184\n",
    "    end\n",
    "    return total\n",
    "end"
   ]
  },
  {
   "cell_type": "code",
   "execution_count": 38,
   "id": "94eae609",
   "metadata": {},
   "outputs": [
    {
     "name": "stdout",
     "output_type": "stream",
     "text": [
      "131.3776 kilojoules"
     ]
    }
   ],
   "source": [
    "print(ΣJ(kcal), \" kilojoules\")"
   ]
  },
  {
   "cell_type": "code",
   "execution_count": 35,
   "id": "118e1786",
   "metadata": {},
   "outputs": [
    {
     "name": "stdout",
     "output_type": "stream",
     "text": [
      "[-2.7, 5.4, 42.1]\n",
      "[-2.7, 5.4, 42.1]"
     ]
    }
   ],
   "source": [
    "print(kcal[2:end], \"\\n\")\n",
    "print(kcal[end-2:end])"
   ]
  },
  {
   "cell_type": "code",
   "execution_count": null,
   "id": "dba3c9c2",
   "metadata": {},
   "outputs": [],
   "source": []
  }
 ],
 "metadata": {
  "kernelspec": {
   "display_name": "Julia 1.5.3",
   "language": "julia",
   "name": "julia-1.5"
  },
  "language_info": {
   "file_extension": ".jl",
   "mimetype": "application/julia",
   "name": "julia",
   "version": "1.5.3"
  }
 },
 "nbformat": 4,
 "nbformat_minor": 5
}
